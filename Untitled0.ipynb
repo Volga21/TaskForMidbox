{
  "nbformat": 4,
  "nbformat_minor": 0,
  "metadata": {
    "colab": {
      "provenance": [],
      "authorship_tag": "ABX9TyMdQ9Bekt4GiUKEvpPHlGL6",
      "include_colab_link": true
    },
    "kernelspec": {
      "name": "python3",
      "display_name": "Python 3"
    },
    "language_info": {
      "name": "python"
    }
  },
  "cells": [
    {
      "cell_type": "markdown",
      "metadata": {
        "id": "view-in-github",
        "colab_type": "text"
      },
      "source": [
        "<a href=\"https://colab.research.google.com/github/Volga21/TaskForMidbox/blob/master/Untitled0.ipynb\" target=\"_parent\"><img src=\"https://colab.research.google.com/assets/colab-badge.svg\" alt=\"Open In Colab\"/></a>"
      ]
    },
    {
      "cell_type": "code",
      "execution_count": 3,
      "metadata": {
        "colab": {
          "base_uri": "https://localhost:8080/"
        },
        "id": "eJZSZ565YuQs",
        "outputId": "e883d2e1-618e-4e47-c152-4babc70899c3"
      },
      "outputs": [
        {
          "output_type": "stream",
          "name": "stdout",
          "text": [
            "Collecting pyspark==3.0.1\n",
            "  Downloading pyspark-3.0.1.tar.gz (204.2 MB)\n",
            "\u001b[2K     \u001b[90m━━━━━━━━━━━━━━━━━━━━━━━━━━━━━━━━━━━━━━━━\u001b[0m \u001b[32m204.2/204.2 MB\u001b[0m \u001b[31m5.7 MB/s\u001b[0m eta \u001b[36m0:00:00\u001b[0m\n",
            "\u001b[?25h  Preparing metadata (setup.py) ... \u001b[?25l\u001b[?25hdone\n",
            "Collecting py4j==0.10.9\n",
            "  Downloading py4j-0.10.9-py2.py3-none-any.whl (198 kB)\n",
            "\u001b[2K     \u001b[90m━━━━━━━━━━━━━━━━━━━━━━━━━━━━━━━━━━━━━━━━\u001b[0m \u001b[32m198.6/198.6 kB\u001b[0m \u001b[31m20.8 MB/s\u001b[0m eta \u001b[36m0:00:00\u001b[0m\n",
            "\u001b[?25hBuilding wheels for collected packages: pyspark\n",
            "  Building wheel for pyspark (setup.py) ... \u001b[?25l\u001b[?25hdone\n",
            "  Created wheel for pyspark: filename=pyspark-3.0.1-py2.py3-none-any.whl size=204612223 sha256=41421cb0a62ff24b6d027d088682c79bf840eefeaeb94f1b32fdbd44fef10fd7\n",
            "  Stored in directory: /root/.cache/pip/wheels/19/b0/c8/6cb894117070e130fc44352c2a13f15b6c27e440d04a84fb48\n",
            "Successfully built pyspark\n",
            "Installing collected packages: py4j, pyspark\n",
            "  Attempting uninstall: py4j\n",
            "    Found existing installation: py4j 0.10.9.7\n",
            "    Uninstalling py4j-0.10.9.7:\n",
            "      Successfully uninstalled py4j-0.10.9.7\n",
            "Successfully installed py4j-0.10.9 pyspark-3.0.1\n"
          ]
        }
      ],
      "source": [
        "!pip install pyspark==3.0.1 py4j==0.10.9\n"
      ]
    },
    {
      "cell_type": "code",
      "source": [
        "from pyspark.sql import SparkSession\n",
        "from pyspark.sql.functions import col, lit\n",
        "spark = SparkSession.builder\\\n",
        "        .master(\"local[*]\")\\\n",
        "        .appName('TestTaskForMindbox')\\\n",
        "        .getOrCreate()\n"
      ],
      "metadata": {
        "id": "R2G_KKkyO2Al"
      },
      "execution_count": 35,
      "outputs": []
    },
    {
      "cell_type": "markdown",
      "source": [],
      "metadata": {
        "id": "IoRogpJZPERV"
      }
    },
    {
      "cell_type": "code",
      "source": [
        "Products = [('Творог',1),('Молоко', 1),('Огурцы',2),('Огурцы',3),('Орехи',-1),('Мармелад',-1),('Помидор',2),('Помидор',3)]\n",
        "t1=spark.createDataFrame(Products,['Product', 'Key'])\n",
        "\n",
        "Categories = [('Молочные продукты',1),('Овощи',2),('Вегетарианские продукты',3),('Фрукты',4)]\n",
        "t2=spark.createDataFrame(Categories,['Category','Key'])\n"
      ],
      "metadata": {
        "id": "Vs62RG6ePE0X"
      },
      "execution_count": 36,
      "outputs": []
    },
    {
      "cell_type": "code",
      "source": [
        "t2.show()\n",
        "t1.show()"
      ],
      "metadata": {
        "colab": {
          "base_uri": "https://localhost:8080/"
        },
        "id": "m8U0MutOS41H",
        "outputId": "fb456dad-301a-4e5c-fbd5-671422979510"
      },
      "execution_count": 37,
      "outputs": [
        {
          "output_type": "stream",
          "name": "stdout",
          "text": [
            "+--------------------+---+\n",
            "|            Category|Key|\n",
            "+--------------------+---+\n",
            "|   Молочные продукты|  1|\n",
            "|               Овощи|  2|\n",
            "|Вегетарианские пр...|  3|\n",
            "|              Фрукты|  4|\n",
            "+--------------------+---+\n",
            "\n",
            "+--------+---+\n",
            "| Product|Key|\n",
            "+--------+---+\n",
            "|  Творог|  1|\n",
            "|  Молоко|  1|\n",
            "|  Огурцы|  2|\n",
            "|  Огурцы|  3|\n",
            "|   Орехи| -1|\n",
            "|Мармелад| -1|\n",
            "| Помидор|  2|\n",
            "| Помидор|  3|\n",
            "+--------+---+\n",
            "\n"
          ]
        }
      ]
    },
    {
      "cell_type": "code",
      "source": [
        "t3=t1.join(t2, t1.Key==t2.Key, \"left\").select('Product','Category')\n",
        "t3.show()\n"
      ],
      "metadata": {
        "colab": {
          "base_uri": "https://localhost:8080/"
        },
        "id": "F2ADwQJlVANj",
        "outputId": "4b79c9b8-775d-498b-af78-20f1526130d0"
      },
      "execution_count": 45,
      "outputs": [
        {
          "output_type": "stream",
          "name": "stdout",
          "text": [
            "+--------+--------------------+\n",
            "| Product|            Category|\n",
            "+--------+--------------------+\n",
            "|  Творог|   Молочные продукты|\n",
            "|  Молоко|   Молочные продукты|\n",
            "|  Огурцы|Вегетарианские пр...|\n",
            "| Помидор|Вегетарианские пр...|\n",
            "|  Огурцы|               Овощи|\n",
            "| Помидор|               Овощи|\n",
            "|   Орехи|                null|\n",
            "|Мармелад|                null|\n",
            "+--------+--------------------+\n",
            "\n"
          ]
        }
      ]
    }
  ]
}